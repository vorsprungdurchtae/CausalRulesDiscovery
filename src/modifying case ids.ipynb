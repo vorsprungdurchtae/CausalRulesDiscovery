{
 "cells": [
  {
   "cell_type": "code",
   "execution_count": null,
   "id": "20615fee",
   "metadata": {},
   "outputs": [],
   "source": [
    "#this function modifies all the case id column value s.t. every case id look like\n",
    "#Case 1637838\n",
    "#Case 6869797\n",
    "#.\n",
    "#.\n",
    "#.\n",
    "\n",
    "def rename_caseid(x):\n",
    "    \n",
    "    x = str(x)\n",
    "    \n",
    "    if 'Case' in x:\n",
    "        \n",
    "        if x.startswith('Case') == False:\n",
    "            \n",
    "            #remove the word \"Case\" from x\n",
    "            x = x.replace(\"Case\", \"\")\n",
    "            x = x.replace(\"case\", \"\")\n",
    "            \n",
    "            #remove all the whitespace from x \"\".join(x.split())\n",
    "            x = \"\".join(x.split())\n",
    "            \n",
    "            #remove all the slash from the x \n",
    "            x = x.replace(\"\\\\\", \"\")\n",
    "            x = x.replace(\"/\", \"\")\n",
    "        \n",
    "        else :\n",
    "            \n",
    "            pass\n",
    "            \n",
    "    else :\n",
    "        \n",
    "        x = str(\"Case \") + str(x) \n",
    "    \n",
    "    return str(x)\n",
    "\n",
    "#how to use this function:\n",
    "#1. grab the column name of the case id(in this example, it is CustomerID)\n",
    "#2. assing the applied column to the original column like below\n",
    "#Example : cops[\"CustomerID\"] = cops[\"CustomerID\"].apply(rename_caseid)"
   ]
  }
 ],
 "metadata": {
  "kernelspec": {
   "display_name": "Python [conda env:anaconda3-env-IDS2020.yaml]",
   "language": "python",
   "name": "conda-env-anaconda3-env-IDS2020.yaml-py"
  },
  "language_info": {
   "codemirror_mode": {
    "name": "ipython",
    "version": 3
   },
   "file_extension": ".py",
   "mimetype": "text/x-python",
   "name": "python",
   "nbconvert_exporter": "python",
   "pygments_lexer": "ipython3",
   "version": "3.7.9"
  }
 },
 "nbformat": 4,
 "nbformat_minor": 5
}
